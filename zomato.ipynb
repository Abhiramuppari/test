{
 "cells": [
  {
   "cell_type": "raw",
   "id": "7c0794e2-82ea-476a-b895-daeb5054e74f",
   "metadata": {},
   "source": [
    "pip install pandas"
   ]
  },
  {
   "cell_type": "code",
   "execution_count": null,
   "id": "e1defec1-0d8e-4182-8a76-1709e142d020",
   "metadata": {},
   "outputs": [],
   "source": [
    "import numpy as np\n",
    "import pandas as pd\n",
    "import matplotlib.pyplot as plt\n",
    "import seaborn as sns"
   ]
  },
  {
   "cell_type": "code",
   "execution_count": null,
   "id": "afe98813-0720-47a0-b29c-5fa718198460",
   "metadata": {},
   "outputs": [],
   "source": [
    "data= pd.read_csv(\"Zomato data .csv\")\n",
    "print(data.head())"
   ]
  },
  {
   "cell_type": "code",
   "execution_count": null,
   "id": "7e7eeb04-a545-4b91-b621-d8b1c7f5322e",
   "metadata": {},
   "outputs": [],
   "source": [
    "# we have to convert fraction into float for rate to get accurate result and calculations\n",
    "def handleRate(value):\n",
    "    value=str(value).split('/')\n",
    "    value=value[0];\n",
    "    return float(value)\n",
    "\n",
    "data['rate']=data['rate'].apply(handleRate)\n",
    "print(data.head())"
   ]
  },
  {
   "cell_type": "code",
   "execution_count": null,
   "id": "73968abf-64d8-4dbe-a8fe-d919567cfbc6",
   "metadata": {},
   "outputs": [],
   "source": [
    "data.info()\n",
    "# BY THIS we make sure that there is no null values in the data set"
   ]
  },
  {
   "cell_type": "code",
   "execution_count": null,
   "id": "9f493096-cff3-44de-8875-e428ec70e011",
   "metadata": {},
   "outputs": [],
   "source": [
    "plt.figure( figsize=(4,4))\n",
    "sns.countplot(x=\"listed_in(type)\", data= data)\n",
    "sns.set(style=\"darkgrid\")\n",
    "plt.xlabel(\"Type of a Restaurent\")\n"
   ]
  },
  {
   "cell_type": "code",
   "execution_count": null,
   "id": "5c4fddd5-7c80-4834-acb9-bfc72309e61c",
   "metadata": {},
   "outputs": [],
   "source": [
    "grouped_data = data.groupby('listed_in(type)')['votes'].sum()\n",
    "result = pd.DataFrame({'votes': grouped_data})\n",
    "plt.plot(result, c=\"green\", marker=\"o\")\n",
    "plt.xlabel(\"Type of restaurant\", c=\"red\", size=20)\n",
    "plt.ylabel(\"Votes\", c=\"red\", size=20)\n",
    "plt.show()"
   ]
  },
  {
   "cell_type": "code",
   "execution_count": null,
   "id": "d8c0811b-6e28-46e8-94c5-74c91c459c08",
   "metadata": {},
   "outputs": [],
   "source": [
    "plt.figure(figsize=(4,4))\n",
    "sns.countplot(x=\"online_order\", data=data, palette=\"BrBG\")\n",
    "plt.show()"
   ]
  },
  {
   "cell_type": "code",
   "execution_count": null,
   "id": "227ad9a9-2a44-4cf9-8c1c-e9c90dccd4a8",
   "metadata": {},
   "outputs": [],
   "source": [
    "plt.figure(figsize=(20, 10))\n",
    "plt.hist(x=\"rate\", data= data,bins=10)\n",
    "plt.title(\"Rating Distribution\")\n",
    "plt.show()"
   ]
  },
  {
   "cell_type": "code",
   "execution_count": null,
   "id": "30e9272c-e0b8-4017-b055-b5f3acd8cb01",
   "metadata": {},
   "outputs": [],
   "source": [
    "#sns.countplot(x=\"approx_cost(for two people)\",data=data)\n",
    "couple_data=data[\"approx_cost(for two people)\"]\n",
    "sns.countplot(x=couple_data, palette=\"RdBu\")\n",
    "plt.show()"
   ]
  },
  {
   "cell_type": "code",
   "execution_count": null,
   "id": "1a7ea09b-a21b-427c-aa50-986aa4529cf0",
   "metadata": {},
   "outputs": [],
   "source": [
    "from sklearn.preprocessing import LabelEncoder\n",
    "encoder = LabelEncoder()\n",
    "data.online_order = encoder.fit_transform(data.online_order)\n",
    "data.rate = data['rate'].str.replace('/5', '')\n",
    "data.rate = data.rate.astype(float)"
   ]
  },
  {
   "cell_type": "code",
   "execution_count": null,
   "id": "82432f28-c670-4b7e-8f1a-300664ca4184",
   "metadata": {},
   "outputs": [],
   "source": [
    "plt.figure(figsize=(6,6))\n",
    "sns.boxplot(x = \"online_order\", y = 'rate', data=data)\n",
    "plt.show()"
   ]
  },
  {
   "cell_type": "code",
   "execution_count": null,
   "id": "b6ec6f98-e9e8-4e91-812f-ac3829d45e55",
   "metadata": {},
   "outputs": [],
   "source": [
    "pivot_table = data.pivot_table(index='listed_in(type)', columns='online_order', aggfunc='size')\n",
    "plt.figure(figsize=(10, 6))\n",
    "sns.heatmap(pivot_table, annot=True, cmap=\"viridis\", fmt='.0f')\n",
    "plt.title(\"Heatmap\")\n",
    "plt.xlabel(\"Online Order\")\n",
    "plt.ylabel(\"Listed In (Type)\")\n",
    "plt.show()"
   ]
  },
  {
   "cell_type": "code",
   "execution_count": null,
   "id": "5c98a7c5-0aa6-4b46-a4c7-531d2423e375",
   "metadata": {},
   "outputs": [],
   "source": []
  }
 ],
 "metadata": {
  "kernelspec": {
   "display_name": "Python 3 (ipykernel)",
   "language": "python",
   "name": "python3"
  },
  "language_info": {
   "codemirror_mode": {
    "name": "ipython",
    "version": 3
   },
   "file_extension": ".py",
   "mimetype": "text/x-python",
   "name": "python",
   "nbconvert_exporter": "python",
   "pygments_lexer": "ipython3",
   "version": "3.11.7"
  }
 },
 "nbformat": 4,
 "nbformat_minor": 5
}
